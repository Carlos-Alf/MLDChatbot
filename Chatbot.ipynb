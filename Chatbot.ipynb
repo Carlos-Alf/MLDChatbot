{
 "cells": [
  {
   "cell_type": "code",
   "execution_count": 125,
   "metadata": {},
   "outputs": [],
   "source": [
    "import json\n",
    "file_name = 'note.json'\n",
    "\n",
    "def find_note(sentence):\n",
    "    with open(file_name, 'r') as json_file:\n",
    "        notes = json.load(json_file)\n",
    "    return len(notes)-1\n",
    "\n",
    "def get_notes():\n",
    "    with open(file_name, 'r') as json_file:\n",
    "            notes = json.load(json_file)\n",
    "    json_file.close()\n",
    "    return notes\n",
    "\n",
    "def write_notes(notes):\n",
    "    with open(file_name, 'w') as json_file:\n",
    "        json.dump(notes, json_file)\n",
    "    json_file.close()\n",
    "            \n",
    "def process_order(step, args={}):\n",
    "    if step == 'ask_note':\n",
    "        return \"Ok, I'm listening, go ahead\"\n",
    "    elif step == 'take_note':\n",
    "        # Record note\n",
    "        notes = get_notes()\n",
    "        notes.append(args['note'])\n",
    "        write_notes(notes)\n",
    "        return \"Noted that!\"\n",
    "    elif step == 'retrieve':\n",
    "        note = notes.get_notes()[-1]\n",
    "        return note\n",
    "    elif step == 'delete':\n",
    "        #Delete note from file\n",
    "        notes = get_notes()\n",
    "        print(args['search'])\n",
    "        if(args['search'] == 'previous'):\n",
    "            note_id = len(notes)-1\n",
    "        else:\n",
    "            note_id = find_note(args['search'])\n",
    "        if(note_id<len(notes)):\n",
    "            del notes[note_id]\n",
    "        write_notes(notes)\n",
    "        return \"Deleted\"\n",
    "    elif step == 'total':\n",
    "        #Count the amount of notes\n",
    "        notes = get_notes()\n",
    "        print(notes)\n",
    "        return \"You have a total of \" + str(len(notes)) + \" notes\""
   ]
  },
  {
   "cell_type": "code",
   "execution_count": 119,
   "metadata": {},
   "outputs": [
    {
     "data": {
      "text/plain": [
       "'Noted that!'"
      ]
     },
     "execution_count": 119,
     "metadata": {},
     "output_type": "execute_result"
    }
   ],
   "source": [
    "process_order('take_note', args = {'note':\"I am a note\"})"
   ]
  },
  {
   "cell_type": "code",
   "execution_count": 118,
   "metadata": {},
   "outputs": [
    {
     "name": "stdout",
     "output_type": "stream",
     "text": [
      "oranges\n"
     ]
    },
    {
     "data": {
      "text/plain": [
       "'Deleted'"
      ]
     },
     "execution_count": 118,
     "metadata": {},
     "output_type": "execute_result"
    }
   ],
   "source": [
    "process_order('delete', args = {'search' : 'oranges'})"
   ]
  },
  {
   "cell_type": "code",
   "execution_count": 120,
   "metadata": {},
   "outputs": [
    {
     "name": "stdout",
     "output_type": "stream",
     "text": [
      "['g', 'g', 'g', 'g', 'g', 'I am a note']\n",
      "You have a total of 6 notes\n"
     ]
    }
   ],
   "source": [
    "print(process_order('total'))"
   ]
  },
  {
   "cell_type": "code",
   "execution_count": null,
   "metadata": {},
   "outputs": [],
   "source": []
  }
 ],
 "metadata": {
  "kernelspec": {
   "display_name": "Python 3",
   "language": "python",
   "name": "python3"
  },
  "language_info": {
   "codemirror_mode": {
    "name": "ipython",
    "version": 3
   },
   "file_extension": ".py",
   "mimetype": "text/x-python",
   "name": "python",
   "nbconvert_exporter": "python",
   "pygments_lexer": "ipython3",
   "version": "3.5.3"
  }
 },
 "nbformat": 4,
 "nbformat_minor": 2
}
